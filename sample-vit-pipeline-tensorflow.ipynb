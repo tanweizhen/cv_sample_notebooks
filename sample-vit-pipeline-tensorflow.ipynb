{
 "cells": [
  {
   "cell_type": "code",
   "execution_count": 1,
   "id": "6f01b038",
   "metadata": {
    "_cell_guid": "b1076dfc-b9ad-4769-8c92-a6c4dae69d19",
    "_uuid": "8f2839f25d086af736a60e9eeb907d3b93b6e0e5",
    "execution": {
     "iopub.execute_input": "2021-11-08T16:33:14.767160Z",
     "iopub.status.busy": "2021-11-08T16:33:14.765643Z",
     "iopub.status.idle": "2021-11-08T16:33:20.542230Z",
     "shell.execute_reply": "2021-11-08T16:33:20.541248Z",
     "shell.execute_reply.started": "2021-11-01T08:05:06.400359Z"
    },
    "papermill": {
     "duration": 5.799504,
     "end_time": "2021-11-08T16:33:20.542386",
     "exception": false,
     "start_time": "2021-11-08T16:33:14.742882",
     "status": "completed"
    },
    "tags": []
   },
   "outputs": [],
   "source": [
    "import tensorflow as tf\n",
    "import os\n",
    "from tensorflow.keras import layers\n",
    "from tensorflow.keras import models\n",
    "from tensorflow.keras import optimizers\n",
    "from tensorflow.keras import regularizers\n",
    "import numpy as np\n",
    "import pandas as pd\n",
    "import random\n",
    "import tensorflow_hub as hub\n",
    "from sklearn.metrics import classification_report"
   ]
  },
  {
   "cell_type": "code",
   "execution_count": 2,
   "id": "9b16e5e7",
   "metadata": {
    "execution": {
     "iopub.execute_input": "2021-11-08T16:33:20.580538Z",
     "iopub.status.busy": "2021-11-08T16:33:20.579580Z",
     "iopub.status.idle": "2021-11-08T16:33:20.581459Z",
     "shell.execute_reply": "2021-11-08T16:33:20.581984Z",
     "shell.execute_reply.started": "2021-11-01T08:05:12.570716Z"
    },
    "papermill": {
     "duration": 0.023898,
     "end_time": "2021-11-08T16:33:20.582121",
     "exception": false,
     "start_time": "2021-11-08T16:33:20.558223",
     "status": "completed"
    },
    "tags": []
   },
   "outputs": [],
   "source": [
    "# Seed value\n",
    "# Apparently you may use different seed values at each stage\n",
    "seed_value= 77\n",
    "\n",
    "# 1. Set the `PYTHONHASHSEED` environment variable at a fixed value\n",
    "os.environ['PYTHONHASHSEED']=str(seed_value)\n",
    "\n",
    "# 2. Set the `python` built-in pseudo-random generator at a fixed value\n",
    "import random\n",
    "random.seed(seed_value)\n",
    "\n",
    "# 3. Set the `numpy` pseudo-random generator at a fixed value\n",
    "import numpy as np\n",
    "np.random.seed(seed_value)\n",
    "\n",
    "# 4. Set the `tensorflow` pseudo-random generator at a fixed value\n",
    "tf.random.set_seed(seed_value)"
   ]
  },
  {
   "cell_type": "code",
   "execution_count": 3,
   "id": "e03c18c1",
   "metadata": {
    "execution": {
     "iopub.execute_input": "2021-11-08T16:33:20.633595Z",
     "iopub.status.busy": "2021-11-08T16:33:20.632805Z",
     "iopub.status.idle": "2021-11-08T16:33:20.636875Z",
     "shell.execute_reply": "2021-11-08T16:33:20.636295Z",
     "shell.execute_reply.started": "2021-11-01T08:05:12.580462Z"
    },
    "papermill": {
     "duration": 0.039529,
     "end_time": "2021-11-08T16:33:20.637001",
     "exception": false,
     "start_time": "2021-11-08T16:33:20.597472",
     "status": "completed"
    },
    "tags": []
   },
   "outputs": [],
   "source": [
    "def create_mapping():\n",
    "    import pandas as pd\n",
    "    mapper = pd.DataFrame()\n",
    "    mapper['range']=[str(x) for x in range(75)]\n",
    "    mapper.sort_values(by='range',inplace=True)\n",
    "    mapper.reset_index(drop=True,inplace=True)\n",
    "    mapper.reset_index(inplace=True)\n",
    "    mapping_dict = {k:int(v) for k,v in zip(mapper['index'],mapper['range'])}\n",
    "    return mapping_dict\n",
    "\n",
    "mapping_dict = create_mapping()\n",
    "\n",
    "def test_accuracy(input_ordered_pred):\n",
    "    ## Returns the approximate accuracy on the test set. The better your model is, the more accurate the results will be\n",
    "    from sklearn.metrics import accuracy_score,classification_report\n",
    "    from scipy.stats import mode\n",
    "    def find_true_labels(input_pred,window=3):\n",
    "        ## Takes in input vector of predictions and outputs the true labels (approximate)\n",
    "        padded = [0]*window+list(input_pred)+[74]*window\n",
    "        true = []\n",
    "        for i in range(len(input_pred)):\n",
    "            true.append(mode(padded[i:i+(window*2)+1]).mode[0])\n",
    "        return true\n",
    "    true = find_true_labels(input_ordered_pred)\n",
    "    return accuracy_score(true,input_ordered_pred),classification_report(true,input_ordered_pred)"
   ]
  },
  {
   "cell_type": "code",
   "execution_count": 4,
   "id": "bee3efe4",
   "metadata": {
    "execution": {
     "iopub.execute_input": "2021-11-08T16:33:20.677764Z",
     "iopub.status.busy": "2021-11-08T16:33:20.677098Z",
     "iopub.status.idle": "2021-11-08T16:33:29.125386Z",
     "shell.execute_reply": "2021-11-08T16:33:29.125925Z",
     "shell.execute_reply.started": "2021-11-01T08:05:12.611224Z"
    },
    "papermill": {
     "duration": 8.473623,
     "end_time": "2021-11-08T16:33:29.126097",
     "exception": false,
     "start_time": "2021-11-08T16:33:20.652474",
     "status": "completed"
    },
    "tags": []
   },
   "outputs": [],
   "source": [
    "directory_train = \"../input/cv-assignment-2-224x224-training-set\"\n",
    "\n",
    "pixels = 224\n",
    "batch_size = 128\n",
    "num_class = 75\n",
    "\n",
    "def generate_data_df_with_folds(kfold=10):\n",
    "    files = pd.DataFrame()\n",
    "\n",
    "    tmp = []\n",
    "    labels_1 = []\n",
    "    for i in range(num_class):\n",
    "        for x,_,z in os.walk(directory_train+'/'+str(i)):\n",
    "            for file in z:\n",
    "                if 'desktop.ini' not in file:\n",
    "                    filepath = x+'/'+file\n",
    "                    tmp.append(filepath)\n",
    "                    labels_1.append(i)\n",
    "\n",
    "    labels_2 = [1 if i in range(15,74) else 0 for i in labels_1] #1 if food, 0 if place\n",
    "    files['filepaths'] = pd.Series(tmp)\n",
    "    files['target'] = pd.Series(labels_1)\n",
    "\n",
    "    folds = []\n",
    "    for i in range(num_class):\n",
    "        n = files[files['target']==i].shape[0]\n",
    "        tmp = []\n",
    "        for fold in range(kfold):\n",
    "            if fold != kfold-1:\n",
    "                tmp += [fold]*(n//kfold)\n",
    "            else:\n",
    "                tmp+= [fold]*(n-len(tmp))\n",
    "        random.shuffle(tmp)\n",
    "        folds+=tmp\n",
    "    files['fold'] = folds\n",
    "    files['target'] = files['target'].astype(str)\n",
    "    return files\n",
    "\n",
    "files = generate_data_df_with_folds(kfold=10)"
   ]
  },
  {
   "cell_type": "code",
   "execution_count": 5,
   "id": "eaf98b35",
   "metadata": {
    "execution": {
     "iopub.execute_input": "2021-11-08T16:33:29.163917Z",
     "iopub.status.busy": "2021-11-08T16:33:29.162981Z",
     "iopub.status.idle": "2021-11-08T16:33:40.863066Z",
     "shell.execute_reply": "2021-11-08T16:33:40.863478Z",
     "shell.execute_reply.started": "2021-11-01T08:05:21.082255Z"
    },
    "papermill": {
     "duration": 11.721857,
     "end_time": "2021-11-08T16:33:40.863639",
     "exception": false,
     "start_time": "2021-11-08T16:33:29.141782",
     "status": "completed"
    },
    "tags": []
   },
   "outputs": [
    {
     "name": "stdout",
     "output_type": "stream",
     "text": [
      "Found 27684 validated image filenames belonging to 75 classes.\n",
      "Found 3381 validated image filenames belonging to 75 classes.\n"
     ]
    }
   ],
   "source": [
    "gen = tf.keras.preprocessing.image.ImageDataGenerator()\n",
    "train = gen.flow_from_dataframe(files[files['fold']<9],x_col='filepaths',y_col='target',\n",
    "                                class_mode='sparse',batch_size=batch_size,target_size=(pixels,pixels))\n",
    "val = gen.flow_from_dataframe(files[files['fold']==9],x_col='filepaths',y_col='target',\n",
    "                                class_mode='sparse',batch_size=batch_size,target_size=(pixels,pixels),shuffle=False)"
   ]
  },
  {
   "cell_type": "code",
   "execution_count": 6,
   "id": "0535572a",
   "metadata": {
    "execution": {
     "iopub.execute_input": "2021-11-08T16:33:40.900113Z",
     "iopub.status.busy": "2021-11-08T16:33:40.899588Z",
     "iopub.status.idle": "2021-11-08T16:33:43.419963Z",
     "shell.execute_reply": "2021-11-08T16:33:43.420385Z",
     "shell.execute_reply.started": "2021-11-01T08:05:31.395157Z"
    },
    "papermill": {
     "duration": 2.540627,
     "end_time": "2021-11-08T16:33:43.420554",
     "exception": false,
     "start_time": "2021-11-08T16:33:40.879927",
     "status": "completed"
    },
    "tags": []
   },
   "outputs": [
    {
     "name": "stderr",
     "output_type": "stream",
     "text": [
      "2021-11-08 16:33:41.128635: I tensorflow/stream_executor/cuda/cuda_gpu_executor.cc:937] successful NUMA node read from SysFS had negative value (-1), but there must be at least one NUMA node, so returning NUMA node zero\n",
      "2021-11-08 16:33:41.222624: I tensorflow/stream_executor/cuda/cuda_gpu_executor.cc:937] successful NUMA node read from SysFS had negative value (-1), but there must be at least one NUMA node, so returning NUMA node zero\n",
      "2021-11-08 16:33:41.223336: I tensorflow/stream_executor/cuda/cuda_gpu_executor.cc:937] successful NUMA node read from SysFS had negative value (-1), but there must be at least one NUMA node, so returning NUMA node zero\n",
      "2021-11-08 16:33:41.225171: I tensorflow/core/platform/cpu_feature_guard.cc:142] This TensorFlow binary is optimized with oneAPI Deep Neural Network Library (oneDNN) to use the following CPU instructions in performance-critical operations:  AVX2 AVX512F FMA\n",
      "To enable them in other operations, rebuild TensorFlow with the appropriate compiler flags.\n",
      "2021-11-08 16:33:41.226338: I tensorflow/stream_executor/cuda/cuda_gpu_executor.cc:937] successful NUMA node read from SysFS had negative value (-1), but there must be at least one NUMA node, so returning NUMA node zero\n",
      "2021-11-08 16:33:41.227087: I tensorflow/stream_executor/cuda/cuda_gpu_executor.cc:937] successful NUMA node read from SysFS had negative value (-1), but there must be at least one NUMA node, so returning NUMA node zero\n",
      "2021-11-08 16:33:41.227744: I tensorflow/stream_executor/cuda/cuda_gpu_executor.cc:937] successful NUMA node read from SysFS had negative value (-1), but there must be at least one NUMA node, so returning NUMA node zero\n",
      "2021-11-08 16:33:43.094567: I tensorflow/stream_executor/cuda/cuda_gpu_executor.cc:937] successful NUMA node read from SysFS had negative value (-1), but there must be at least one NUMA node, so returning NUMA node zero\n",
      "2021-11-08 16:33:43.095345: I tensorflow/stream_executor/cuda/cuda_gpu_executor.cc:937] successful NUMA node read from SysFS had negative value (-1), but there must be at least one NUMA node, so returning NUMA node zero\n",
      "2021-11-08 16:33:43.096063: I tensorflow/stream_executor/cuda/cuda_gpu_executor.cc:937] successful NUMA node read from SysFS had negative value (-1), but there must be at least one NUMA node, so returning NUMA node zero\n",
      "2021-11-08 16:33:43.096696: I tensorflow/core/common_runtime/gpu/gpu_device.cc:1510] Created device /job:localhost/replica:0/task:0/device:GPU:0 with 15403 MB memory:  -> device: 0, name: Tesla P100-PCIE-16GB, pci bus id: 0000:00:04.0, compute capability: 6.0\n"
     ]
    }
   ],
   "source": [
    "data_augmentation = tf.keras.Sequential([\n",
    "  layers.RandomFlip(\"horizontal_and_vertical\"),\n",
    "  layers.RandomRotation(0.5),\n",
    "])"
   ]
  },
  {
   "cell_type": "code",
   "execution_count": 7,
   "id": "c8aea163",
   "metadata": {
    "execution": {
     "iopub.execute_input": "2021-11-08T16:33:43.459888Z",
     "iopub.status.busy": "2021-11-08T16:33:43.459290Z",
     "iopub.status.idle": "2021-11-08T16:33:57.351336Z",
     "shell.execute_reply": "2021-11-08T16:33:57.351831Z",
     "shell.execute_reply.started": "2021-11-01T08:05:34.030839Z"
    },
    "papermill": {
     "duration": 13.914856,
     "end_time": "2021-11-08T16:33:57.352016",
     "exception": false,
     "start_time": "2021-11-08T16:33:43.437160",
     "status": "completed"
    },
    "tags": []
   },
   "outputs": [],
   "source": [
    "base = tf.keras.Sequential([hub.KerasLayer(\"https://tfhub.dev/sayakpaul/vit_b8_fe/1\", trainable=False)])\n",
    "\n",
    "## This is the top layer trained for binary classification of food/place that I have brought over as a feature extractor\n",
    "decoder = models.Sequential([\n",
    "    layers.Dense(units=512,activation=\"selu\"),\n",
    "    layers.Dense(units=1, activation=\"tanh\")\n",
    "])\n",
    "\n",
    "decoder.load_weights('../input/food-place-extractor/decoder/b8/decoder_weights')\n",
    "decoder.trainable=False"
   ]
  },
  {
   "cell_type": "code",
   "execution_count": 8,
   "id": "fce325bb",
   "metadata": {
    "execution": {
     "iopub.execute_input": "2021-11-08T16:33:57.395559Z",
     "iopub.status.busy": "2021-11-08T16:33:57.394658Z",
     "iopub.status.idle": "2021-11-08T16:33:58.847049Z",
     "shell.execute_reply": "2021-11-08T16:33:58.846335Z",
     "shell.execute_reply.started": "2021-11-01T08:05:46.697277Z"
    },
    "papermill": {
     "duration": 1.478416,
     "end_time": "2021-11-08T16:33:58.847187",
     "exception": false,
     "start_time": "2021-11-08T16:33:57.368771",
     "status": "completed"
    },
    "tags": []
   },
   "outputs": [],
   "source": [
    "img_inputs = tf.keras.Input(shape=(pixels, pixels, 3))\n",
    "augment = data_augmentation(img_inputs)\n",
    "rescaling = layers.experimental.preprocessing.Rescaling(scale=1./127.5, offset=-1)(augment)\n",
    "base_model = base(rescaling)\n",
    "decode = decoder(base_model)\n",
    "drop = layers.Dropout(0.4,seed=seed_value)(base_model)\n",
    "x = layers.Dense(units=768,activation=\"relu\")(drop)\n",
    "x = layers.Dropout(0.2,seed=seed_value)(x)\n",
    "x = layers.Dense(units=512,activation=\"relu\")(x)\n",
    "mul = tf.keras.layers.Multiply()([decode,x])\n",
    "concat = tf.keras.layers.Concatenate()([drop,mul])\n",
    "output = layers.Dense(units=num_class, activation=\"softmax\", name=\"Food_Place_75\")(concat)\n",
    "\n",
    "model = tf.keras.Model(inputs=img_inputs, outputs=output)"
   ]
  },
  {
   "cell_type": "markdown",
   "id": "245a6862",
   "metadata": {
    "papermill": {
     "duration": 0.016094,
     "end_time": "2021-11-08T16:33:58.879581",
     "exception": false,
     "start_time": "2021-11-08T16:33:58.863487",
     "status": "completed"
    },
    "tags": []
   },
   "source": [
    "Multiply the output of the tanh decoder with the output of the vision transformer.\n",
    "\n",
    "Since the decoder tanh output maps 1 to food and -1 to place, this hopefully shifts the weights of the hidden layer to food and places to become polar opposites. Since the binary classifier is 99% accurate, this should in theory help performance greatly.\n",
    "\n",
    "From my observations, this seems to have the effect of accelerating convergence (for the first few epochs at least)."
   ]
  },
  {
   "cell_type": "code",
   "execution_count": 9,
   "id": "efb95492",
   "metadata": {
    "execution": {
     "iopub.execute_input": "2021-11-08T16:33:58.924235Z",
     "iopub.status.busy": "2021-11-08T16:33:58.914255Z",
     "iopub.status.idle": "2021-11-08T16:33:58.928927Z",
     "shell.execute_reply": "2021-11-08T16:33:58.928471Z",
     "shell.execute_reply.started": "2021-11-01T08:05:48.150063Z"
    },
    "papermill": {
     "duration": 0.033183,
     "end_time": "2021-11-08T16:33:58.929048",
     "exception": false,
     "start_time": "2021-11-08T16:33:58.895865",
     "status": "completed"
    },
    "tags": []
   },
   "outputs": [
    {
     "name": "stdout",
     "output_type": "stream",
     "text": [
      "Model: \"model\"\n",
      "__________________________________________________________________________________________________\n",
      "Layer (type)                    Output Shape         Param #     Connected to                     \n",
      "==================================================================================================\n",
      "input_1 (InputLayer)            [(None, 224, 224, 3) 0                                            \n",
      "__________________________________________________________________________________________________\n",
      "sequential (Sequential)         (None, 224, 224, 3)  0           input_1[0][0]                    \n",
      "__________________________________________________________________________________________________\n",
      "rescaling (Rescaling)           (None, 224, 224, 3)  0           sequential[0][0]                 \n",
      "__________________________________________________________________________________________________\n",
      "sequential_1 (Sequential)       (None, 768)          85807872    rescaling[0][0]                  \n",
      "__________________________________________________________________________________________________\n",
      "dropout (Dropout)               (None, 768)          0           sequential_1[0][0]               \n",
      "__________________________________________________________________________________________________\n",
      "dense_2 (Dense)                 (None, 768)          590592      dropout[0][0]                    \n",
      "__________________________________________________________________________________________________\n",
      "dropout_1 (Dropout)             (None, 768)          0           dense_2[0][0]                    \n",
      "__________________________________________________________________________________________________\n",
      "sequential_2 (Sequential)       (None, 1)            394241      sequential_1[0][0]               \n",
      "__________________________________________________________________________________________________\n",
      "dense_3 (Dense)                 (None, 512)          393728      dropout_1[0][0]                  \n",
      "__________________________________________________________________________________________________\n",
      "multiply (Multiply)             (None, 512)          0           sequential_2[0][0]               \n",
      "                                                                 dense_3[0][0]                    \n",
      "__________________________________________________________________________________________________\n",
      "concatenate (Concatenate)       (None, 1280)         0           dropout[0][0]                    \n",
      "                                                                 multiply[0][0]                   \n",
      "__________________________________________________________________________________________________\n",
      "Food_Place_75 (Dense)           (None, 75)           96075       concatenate[0][0]                \n",
      "==================================================================================================\n",
      "Total params: 87,282,508\n",
      "Trainable params: 1,080,395\n",
      "Non-trainable params: 86,202,113\n",
      "__________________________________________________________________________________________________\n"
     ]
    }
   ],
   "source": [
    "model.summary()"
   ]
  },
  {
   "cell_type": "code",
   "execution_count": 10,
   "id": "7995c390",
   "metadata": {
    "execution": {
     "iopub.execute_input": "2021-11-08T16:33:58.969117Z",
     "iopub.status.busy": "2021-11-08T16:33:58.968283Z",
     "iopub.status.idle": "2021-11-08T16:33:58.979189Z",
     "shell.execute_reply": "2021-11-08T16:33:58.978702Z",
     "shell.execute_reply.started": "2021-11-01T08:05:48.172034Z"
    },
    "papermill": {
     "duration": 0.03407,
     "end_time": "2021-11-08T16:33:58.979295",
     "exception": false,
     "start_time": "2021-11-08T16:33:58.945225",
     "status": "completed"
    },
    "tags": []
   },
   "outputs": [],
   "source": [
    "optimizer = optimizers.Adam(learning_rate=4e-3)\n",
    "\n",
    "model.compile(\n",
    "    optimizer = optimizer, \n",
    "    loss = 'sparse_categorical_crossentropy', \n",
    "    metrics=[\n",
    "    'accuracy',\n",
    "    tf.keras.metrics.SparseTopKCategoricalAccuracy(k=5, name=\"top_5_accuracy\", dtype=None)\n",
    "    ]\n",
    ")"
   ]
  },
  {
   "cell_type": "code",
   "execution_count": 11,
   "id": "48d3ef73",
   "metadata": {
    "execution": {
     "iopub.execute_input": "2021-11-08T16:33:59.020758Z",
     "iopub.status.busy": "2021-11-08T16:33:59.019074Z",
     "iopub.status.idle": "2021-11-08T16:33:59.021481Z",
     "shell.execute_reply": "2021-11-08T16:33:59.021959Z",
     "shell.execute_reply.started": "2021-11-01T08:05:48.192218Z"
    },
    "papermill": {
     "duration": 0.026363,
     "end_time": "2021-11-08T16:33:59.022113",
     "exception": false,
     "start_time": "2021-11-08T16:33:58.995750",
     "status": "completed"
    },
    "tags": []
   },
   "outputs": [],
   "source": [
    "def scheduler(epoch, lr):\n",
    "    if lr < 1e-6:\n",
    "        return lr\n",
    "    if epoch < 4:\n",
    "        return lr * 0.9\n",
    "    else:\n",
    "        return lr * 0.8\n",
    "    \n",
    "lr_scheduler = tf.keras.callbacks.LearningRateScheduler(scheduler)\n",
    "\n",
    "lr_plateau = tf.keras.callbacks.ReduceLROnPlateau(\n",
    "    monitor='val_loss', \n",
    "    patience=1, \n",
    "    verbose=1,\n",
    "    factor=0.5,\n",
    "    min_lr=1e-8\n",
    ")\n",
    "\n",
    "early_stoppage = tf.keras.callbacks.EarlyStopping(\n",
    "    monitor='val_loss', min_delta=0.002, patience=3, verbose=1,\n",
    "    mode='auto', baseline=None, restore_best_weights=True\n",
    ")\n",
    "\n",
    "callbacks_list = [lr_scheduler,lr_plateau,early_stoppage]"
   ]
  },
  {
   "cell_type": "code",
   "execution_count": 12,
   "id": "15521728",
   "metadata": {
    "execution": {
     "iopub.execute_input": "2021-11-08T16:33:59.059666Z",
     "iopub.status.busy": "2021-11-08T16:33:59.058291Z",
     "iopub.status.idle": "2021-11-08T20:10:19.396844Z",
     "shell.execute_reply": "2021-11-08T20:10:19.395644Z",
     "shell.execute_reply.started": "2021-11-01T08:05:48.200614Z"
    },
    "papermill": {
     "duration": 12980.35842,
     "end_time": "2021-11-08T20:10:19.396970",
     "exception": false,
     "start_time": "2021-11-08T16:33:59.038550",
     "status": "completed"
    },
    "tags": []
   },
   "outputs": [
    {
     "name": "stderr",
     "output_type": "stream",
     "text": [
      "2021-11-08 16:34:00.190031: I tensorflow/compiler/mlir/mlir_graph_optimization_pass.cc:185] None of the MLIR Optimization Passes are enabled (registered 2)\n"
     ]
    },
    {
     "name": "stdout",
     "output_type": "stream",
     "text": [
      "Epoch 1/20\n"
     ]
    },
    {
     "name": "stderr",
     "output_type": "stream",
     "text": [
      "2021-11-08 16:34:05.317984: I tensorflow/compiler/xla/service/service.cc:171] XLA service 0x7ff81803f7a0 initialized for platform CUDA (this does not guarantee that XLA will be used). Devices:\n",
      "2021-11-08 16:34:05.318028: I tensorflow/compiler/xla/service/service.cc:179]   StreamExecutor device (0): Tesla P100-PCIE-16GB, Compute Capability 6.0\n",
      "2021-11-08 16:34:05.659112: I tensorflow/compiler/mlir/tensorflow/utils/dump_mlir_util.cc:210] disabling MLIR crash reproducer, set env var `MLIR_CRASH_REPRODUCER_DIRECTORY` to enable.\n",
      "2021-11-08 16:34:07.854670: I tensorflow/stream_executor/cuda/cuda_dnn.cc:369] Loaded cuDNN version 8005\n",
      "2021-11-08 16:34:23.458538: I tensorflow/compiler/jit/xla_compilation_cache.cc:363] Compiled cluster using XLA!  This line is logged at most once for the lifetime of the process.\n"
     ]
    },
    {
     "name": "stdout",
     "output_type": "stream",
     "text": [
      "217/217 [==============================] - 902s 4s/step - loss: 1.5965 - accuracy: 0.7327 - top_5_accuracy: 0.9252 - val_loss: 0.5228 - val_accuracy: 0.8829 - val_top_5_accuracy: 0.9932\n",
      "Epoch 2/20\n",
      "217/217 [==============================] - 859s 4s/step - loss: 0.7716 - accuracy: 0.8418 - top_5_accuracy: 0.9826 - val_loss: 0.5270 - val_accuracy: 0.8891 - val_top_5_accuracy: 0.9935\n",
      "\n",
      "Epoch 00002: ReduceLROnPlateau reducing learning rate to 0.0016200001118704677.\n",
      "Epoch 3/20\n",
      "217/217 [==============================] - 859s 4s/step - loss: 0.5558 - accuracy: 0.8786 - top_5_accuracy: 0.9908 - val_loss: 0.3732 - val_accuracy: 0.9101 - val_top_5_accuracy: 0.9962\n",
      "Epoch 4/20\n",
      "217/217 [==============================] - 859s 4s/step - loss: 0.4806 - accuracy: 0.8889 - top_5_accuracy: 0.9926 - val_loss: 0.3100 - val_accuracy: 0.9234 - val_top_5_accuracy: 0.9965\n",
      "Epoch 5/20\n",
      "217/217 [==============================] - 860s 4s/step - loss: 0.4282 - accuracy: 0.8968 - top_5_accuracy: 0.9940 - val_loss: 0.2741 - val_accuracy: 0.9293 - val_top_5_accuracy: 0.9967\n",
      "Epoch 6/20\n",
      "217/217 [==============================] - 859s 4s/step - loss: 0.3834 - accuracy: 0.9033 - top_5_accuracy: 0.9956 - val_loss: 0.2606 - val_accuracy: 0.9317 - val_top_5_accuracy: 0.9976\n",
      "Epoch 7/20\n",
      "217/217 [==============================] - 859s 4s/step - loss: 0.3660 - accuracy: 0.9073 - top_5_accuracy: 0.9955 - val_loss: 0.2553 - val_accuracy: 0.9346 - val_top_5_accuracy: 0.9979\n",
      "Epoch 8/20\n",
      "217/217 [==============================] - 859s 4s/step - loss: 0.3356 - accuracy: 0.9121 - top_5_accuracy: 0.9964 - val_loss: 0.2463 - val_accuracy: 0.9370 - val_top_5_accuracy: 0.9982\n",
      "Epoch 9/20\n",
      "217/217 [==============================] - 859s 4s/step - loss: 0.3168 - accuracy: 0.9138 - top_5_accuracy: 0.9969 - val_loss: 0.2250 - val_accuracy: 0.9391 - val_top_5_accuracy: 0.9982\n",
      "Epoch 10/20\n",
      "217/217 [==============================] - 859s 4s/step - loss: 0.2874 - accuracy: 0.9189 - top_5_accuracy: 0.9971 - val_loss: 0.2114 - val_accuracy: 0.9408 - val_top_5_accuracy: 0.9985\n",
      "Epoch 11/20\n",
      "217/217 [==============================] - 859s 4s/step - loss: 0.2776 - accuracy: 0.9224 - top_5_accuracy: 0.9976 - val_loss: 0.2175 - val_accuracy: 0.9394 - val_top_5_accuracy: 0.9982\n",
      "\n",
      "Epoch 00011: ReduceLROnPlateau reducing learning rate to 0.00013759415014646947.\n",
      "Epoch 12/20\n",
      "217/217 [==============================] - 860s 4s/step - loss: 0.2717 - accuracy: 0.9243 - top_5_accuracy: 0.9971 - val_loss: 0.2053 - val_accuracy: 0.9417 - val_top_5_accuracy: 0.9988\n",
      "Epoch 13/20\n",
      "217/217 [==============================] - 860s 4s/step - loss: 0.2595 - accuracy: 0.9267 - top_5_accuracy: 0.9972 - val_loss: 0.2088 - val_accuracy: 0.9429 - val_top_5_accuracy: 0.9985\n",
      "\n",
      "Epoch 00013: ReduceLROnPlateau reducing learning rate to 4.4030130084138364e-05.\n",
      "Epoch 14/20\n",
      "217/217 [==============================] - 859s 4s/step - loss: 0.2501 - accuracy: 0.9269 - top_5_accuracy: 0.9975 - val_loss: 0.2058 - val_accuracy: 0.9441 - val_top_5_accuracy: 0.9988\n",
      "\n",
      "Epoch 00014: ReduceLROnPlateau reducing learning rate to 1.7612052033655345e-05.\n",
      "Epoch 15/20\n",
      "217/217 [==============================] - 859s 4s/step - loss: 0.2587 - accuracy: 0.9256 - top_5_accuracy: 0.9978 - val_loss: 0.2046 - val_accuracy: 0.9438 - val_top_5_accuracy: 0.9991\n",
      "Restoring model weights from the end of the best epoch.\n",
      "Epoch 00015: early stopping\n"
     ]
    }
   ],
   "source": [
    "history_1 = model.fit(train,validation_data=val,callbacks=callbacks_list,epochs=20)"
   ]
  },
  {
   "cell_type": "code",
   "execution_count": 13,
   "id": "ba3d9b25",
   "metadata": {
    "execution": {
     "iopub.execute_input": "2021-11-08T20:10:21.410388Z",
     "iopub.status.busy": "2021-11-08T20:10:21.409830Z",
     "iopub.status.idle": "2021-11-08T20:11:21.655658Z",
     "shell.execute_reply": "2021-11-08T20:11:21.655120Z",
     "shell.execute_reply.started": "2021-11-01T12:39:18.421619Z"
    },
    "papermill": {
     "duration": 61.114233,
     "end_time": "2021-11-08T20:11:21.655814",
     "exception": false,
     "start_time": "2021-11-08T20:10:20.541581",
     "status": "completed"
    },
    "tags": []
   },
   "outputs": [],
   "source": [
    "model.save_weights('weights/vit_b8_mult_skip_fold1')"
   ]
  },
  {
   "cell_type": "code",
   "execution_count": 14,
   "id": "060f164d",
   "metadata": {
    "execution": {
     "iopub.execute_input": "2021-11-08T20:11:23.399644Z",
     "iopub.status.busy": "2021-11-08T20:11:23.398115Z",
     "iopub.status.idle": "2021-11-08T20:13:47.429925Z",
     "shell.execute_reply": "2021-11-08T20:13:47.430432Z",
     "shell.execute_reply.started": "2021-11-01T12:37:00.500660Z"
    },
    "papermill": {
     "duration": 144.882926,
     "end_time": "2021-11-08T20:13:47.430615",
     "exception": false,
     "start_time": "2021-11-08T20:11:22.547689",
     "status": "completed"
    },
    "tags": []
   },
   "outputs": [
    {
     "name": "stdout",
     "output_type": "stream",
     "text": [
      "Found 4315 files belonging to 1 classes.\n"
     ]
    }
   ],
   "source": [
    "test_dir = '../input/food-places-test-224x224/processed_test'\n",
    "test = tf.keras.utils.image_dataset_from_directory(test_dir,labels=None,image_size=(pixels,pixels),shuffle=False)\n",
    "pred_test = model.predict(test)"
   ]
  },
  {
   "cell_type": "code",
   "execution_count": 15,
   "id": "e6ba18d2",
   "metadata": {
    "execution": {
     "iopub.execute_input": "2021-11-08T20:13:49.399685Z",
     "iopub.status.busy": "2021-11-08T20:13:49.398913Z",
     "iopub.status.idle": "2021-11-08T20:13:49.454971Z",
     "shell.execute_reply": "2021-11-08T20:13:49.455944Z",
     "shell.execute_reply.started": "2021-11-01T12:39:17.968016Z"
    },
    "papermill": {
     "duration": 1.158524,
     "end_time": "2021-11-08T20:13:49.456136",
     "exception": false,
     "start_time": "2021-11-08T20:13:48.297612",
     "status": "completed"
    },
    "tags": []
   },
   "outputs": [],
   "source": [
    "test_df = pd.DataFrame()\n",
    "test_df['Id'] = [int(x.replace(test_dir+'/','').replace('.jpg','')) for x in test.file_paths]\n",
    "top_5 = pred_test.argsort(axis=-1)[:,-5:]\n",
    "test_df[[5-i for i in range(5)]] = top_5\n",
    "for i in range(1,6):\n",
    "    test_df[i] = [mapping_dict[x] for x in test_df[i]]\n",
    "test_df.sort_values(by='Id',inplace=True)\n",
    "test_df.reset_index(drop=True,inplace=True)\n",
    "test_df = test_df[['Id',1,2,3,4,5]]\n",
    "test_df.columns = ['Id','Top 1','Top 2','Top 3','Top 4','Top 5']"
   ]
  },
  {
   "cell_type": "code",
   "execution_count": 16,
   "id": "a955f644",
   "metadata": {
    "execution": {
     "iopub.execute_input": "2021-11-08T20:13:51.204238Z",
     "iopub.status.busy": "2021-11-08T20:13:51.203378Z",
     "iopub.status.idle": "2021-11-08T20:13:51.613980Z",
     "shell.execute_reply": "2021-11-08T20:13:51.614669Z",
     "shell.execute_reply.started": "2021-11-01T12:39:18.012376Z"
    },
    "papermill": {
     "duration": 1.275922,
     "end_time": "2021-11-08T20:13:51.614819",
     "exception": false,
     "start_time": "2021-11-08T20:13:50.338897",
     "status": "completed"
    },
    "tags": []
   },
   "outputs": [
    {
     "name": "stdout",
     "output_type": "stream",
     "text": [
      "Accuracy:  0.9001158748551564\n",
      "              precision    recall  f1-score   support\n",
      "\n",
      "           0       0.71      0.95      0.81        58\n",
      "           1       0.94      0.96      0.95       104\n",
      "           2       0.75      0.95      0.84       109\n",
      "           3       0.99      0.88      0.93       124\n",
      "           4       0.91      0.89      0.90        94\n",
      "           5       0.98      0.96      0.97       105\n",
      "           6       0.89      0.76      0.82        90\n",
      "           7       1.00      1.00      1.00       100\n",
      "           8       0.93      1.00      0.96        53\n",
      "           9       1.00      0.97      0.98       100\n",
      "          10       0.87      0.83      0.85        47\n",
      "          11       0.99      0.96      0.98        84\n",
      "          12       0.98      0.98      0.98        65\n",
      "          13       0.97      0.92      0.94       101\n",
      "          14       0.97      0.80      0.88        35\n",
      "          15       1.00      1.00      1.00        50\n",
      "          16       0.77      0.88      0.82        56\n",
      "          17       0.93      0.78      0.84        49\n",
      "          18       1.00      0.92      0.96        50\n",
      "          19       0.90      0.88      0.89        51\n",
      "          20       0.71      0.81      0.76        48\n",
      "          21       0.94      0.88      0.91        52\n",
      "          22       0.77      0.82      0.79        49\n",
      "          23       0.82      0.86      0.84        57\n",
      "          24       0.96      0.98      0.97        50\n",
      "          25       0.75      0.90      0.82        51\n",
      "          26       0.74      0.81      0.77        48\n",
      "          27       0.98      0.94      0.96        50\n",
      "          28       0.96      1.00      0.98        50\n",
      "          29       1.00      0.98      0.99        50\n",
      "          30       0.96      0.92      0.94        50\n",
      "          31       0.91      0.87      0.89        55\n",
      "          32       0.78      0.64      0.71        45\n",
      "          33       0.87      0.74      0.80        46\n",
      "          34       0.88      0.61      0.72        49\n",
      "          35       0.86      0.96      0.91        50\n",
      "          36       0.91      0.96      0.93        50\n",
      "          37       0.96      0.90      0.93        50\n",
      "          38       0.93      0.84      0.88        50\n",
      "          39       1.00      0.98      0.99        50\n",
      "          40       1.00      1.00      1.00        50\n",
      "          41       1.00      0.98      0.99        51\n",
      "          42       0.76      0.65      0.70        49\n",
      "          43       1.00      0.96      0.98        50\n",
      "          44       0.96      0.98      0.97        51\n",
      "          45       0.68      0.88      0.77        50\n",
      "          46       0.76      0.88      0.81        50\n",
      "          47       0.66      0.81      0.73        48\n",
      "          48       0.94      0.88      0.91        51\n",
      "          49       0.98      0.94      0.96        50\n",
      "          50       0.98      0.96      0.97        51\n",
      "          51       0.80      0.75      0.77        48\n",
      "          52       0.94      0.98      0.96        51\n",
      "          53       0.98      0.92      0.95        50\n",
      "          54       0.80      0.94      0.86        50\n",
      "          55       0.92      0.96      0.94        50\n",
      "          56       1.00      0.94      0.97        50\n",
      "          57       1.00      0.98      0.99        51\n",
      "          58       0.94      0.98      0.96        49\n",
      "          59       0.92      0.92      0.92        51\n",
      "          60       0.94      0.92      0.93        49\n",
      "          61       1.00      0.90      0.95        50\n",
      "          62       0.96      0.92      0.94        51\n",
      "          63       0.85      0.80      0.82        49\n",
      "          64       1.00      1.00      1.00        50\n",
      "          65       0.71      0.77      0.73        47\n",
      "          66       0.77      0.82      0.80        50\n",
      "          67       0.96      0.98      0.97        51\n",
      "          68       0.72      0.73      0.73        45\n",
      "          69       0.79      0.82      0.81        51\n",
      "          70       0.90      0.78      0.84        49\n",
      "          71       0.90      0.90      0.90        51\n",
      "          72       0.83      0.88      0.85        50\n",
      "          73       1.00      0.96      0.98        51\n",
      "          74       0.98      0.89      0.93        95\n",
      "\n",
      "    accuracy                           0.90      4315\n",
      "   macro avg       0.90      0.89      0.89      4315\n",
      "weighted avg       0.91      0.90      0.90      4315\n",
      "\n"
     ]
    }
   ],
   "source": [
    "test_acc, crep = test_accuracy(test_df['Top 1'])\n",
    "print('Accuracy: ',test_acc)\n",
    "print(crep)"
   ]
  },
  {
   "cell_type": "code",
   "execution_count": 17,
   "id": "db3ada4b",
   "metadata": {
    "execution": {
     "iopub.execute_input": "2021-11-08T20:13:53.340534Z",
     "iopub.status.busy": "2021-11-08T20:13:53.337114Z",
     "iopub.status.idle": "2021-11-08T20:14:04.245040Z",
     "shell.execute_reply": "2021-11-08T20:14:04.245476Z",
     "shell.execute_reply.started": "2021-11-01T12:39:49.493481Z"
    },
    "papermill": {
     "duration": 11.774071,
     "end_time": "2021-11-08T20:14:04.245674",
     "exception": false,
     "start_time": "2021-11-08T20:13:52.471603",
     "status": "completed"
    },
    "tags": []
   },
   "outputs": [
    {
     "name": "stdout",
     "output_type": "stream",
     "text": [
      "Found 31065 validated image filenames belonging to 75 classes.\n"
     ]
    }
   ],
   "source": [
    "fullset = gen.flow_from_dataframe(files,x_col='filepaths',y_col='target',class_mode='sparse',batch_size=batch_size,target_size=(pixels,pixels),shuffle=False)"
   ]
  },
  {
   "cell_type": "code",
   "execution_count": 18,
   "id": "6fa7413e",
   "metadata": {
    "execution": {
     "iopub.execute_input": "2021-11-08T20:14:06.429433Z",
     "iopub.status.busy": "2021-11-08T20:14:06.427899Z",
     "iopub.status.idle": "2021-11-08T20:28:28.948320Z",
     "shell.execute_reply": "2021-11-08T20:28:28.947360Z",
     "shell.execute_reply.started": "2021-11-01T12:39:58.299572Z"
    },
    "papermill": {
     "duration": 863.848872,
     "end_time": "2021-11-08T20:28:28.948516",
     "exception": false,
     "start_time": "2021-11-08T20:14:05.099644",
     "status": "completed"
    },
    "tags": []
   },
   "outputs": [],
   "source": [
    "pred_train = model.predict(fullset)"
   ]
  },
  {
   "cell_type": "code",
   "execution_count": 19,
   "id": "2c77a9cc",
   "metadata": {
    "execution": {
     "iopub.execute_input": "2021-11-08T20:28:30.930867Z",
     "iopub.status.busy": "2021-11-08T20:28:30.929463Z",
     "iopub.status.idle": "2021-11-08T20:28:34.199738Z",
     "shell.execute_reply": "2021-11-08T20:28:34.198815Z",
     "shell.execute_reply.started": "2021-11-01T12:54:16.353424Z"
    },
    "papermill": {
     "duration": 4.130822,
     "end_time": "2021-11-08T20:28:34.199892",
     "exception": false,
     "start_time": "2021-11-08T20:28:30.069070",
     "status": "completed"
    },
    "tags": []
   },
   "outputs": [],
   "source": [
    "pd.concat([files,pd.DataFrame(pred_train)],axis=1).to_csv('ViTb8_Train_output_fold1.csv',index=False)"
   ]
  },
  {
   "cell_type": "code",
   "execution_count": 20,
   "id": "00fe0bf4",
   "metadata": {
    "execution": {
     "iopub.execute_input": "2021-11-08T20:28:35.918601Z",
     "iopub.status.busy": "2021-11-08T20:28:35.907399Z",
     "iopub.status.idle": "2021-11-08T20:28:35.920573Z",
     "shell.execute_reply": "2021-11-08T20:28:35.921099Z",
     "shell.execute_reply.started": "2021-11-01T12:54:19.757663Z"
    },
    "papermill": {
     "duration": 0.86859,
     "end_time": "2021-11-08T20:28:35.921234",
     "exception": false,
     "start_time": "2021-11-08T20:28:35.052644",
     "status": "completed"
    },
    "tags": []
   },
   "outputs": [],
   "source": [
    "test_df = pd.DataFrame()\n",
    "test_df['Id'] = [int(x.replace(test_dir+'/','').replace('.jpg','')) for x in test.file_paths]"
   ]
  },
  {
   "cell_type": "code",
   "execution_count": 21,
   "id": "0c4729d1",
   "metadata": {
    "execution": {
     "iopub.execute_input": "2021-11-08T20:28:38.163739Z",
     "iopub.status.busy": "2021-11-08T20:28:38.162916Z",
     "iopub.status.idle": "2021-11-08T20:28:38.606160Z",
     "shell.execute_reply": "2021-11-08T20:28:38.605687Z",
     "shell.execute_reply.started": "2021-11-01T07:58:43.096799Z"
    },
    "papermill": {
     "duration": 1.382689,
     "end_time": "2021-11-08T20:28:38.606370",
     "exception": false,
     "start_time": "2021-11-08T20:28:37.223681",
     "status": "completed"
    },
    "tags": []
   },
   "outputs": [],
   "source": [
    "pd.concat([test_df,pd.DataFrame(pred_test)],axis=1).sort_values(by='Id').to_csv('ViTb8_Test_output.csv',index=False)"
   ]
  }
 ],
 "metadata": {
  "kernelspec": {
   "display_name": "Python 3",
   "language": "python",
   "name": "python3"
  },
  "language_info": {
   "codemirror_mode": {
    "name": "ipython",
    "version": 3
   },
   "file_extension": ".py",
   "mimetype": "text/x-python",
   "name": "python",
   "nbconvert_exporter": "python",
   "pygments_lexer": "ipython3",
   "version": "3.7.10"
  },
  "papermill": {
   "default_parameters": {},
   "duration": 14135.785574,
   "end_time": "2021-11-08T20:28:43.020770",
   "environment_variables": {},
   "exception": null,
   "input_path": "__notebook__.ipynb",
   "output_path": "__notebook__.ipynb",
   "parameters": {},
   "start_time": "2021-11-08T16:33:07.235196",
   "version": "2.3.3"
  }
 },
 "nbformat": 4,
 "nbformat_minor": 5
}
