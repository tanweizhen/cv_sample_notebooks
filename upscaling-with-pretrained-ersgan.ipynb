{
 "cells": [
  {
   "cell_type": "markdown",
   "metadata": {},
   "source": [
    "# ESRGAN Upscaling\n",
    "\n",
    "This enhances the STL-10 test set by 4x going from 96x96 to 384x384, and is far superior to regular interpolation algorithms."
   ]
  },
  {
   "cell_type": "code",
   "execution_count": 2,
   "metadata": {
    "ExecuteTime": {
     "end_time": "2022-04-01T11:11:02.227259Z",
     "start_time": "2022-04-01T11:10:54.744243Z"
    }
   },
   "outputs": [],
   "source": [
    "import os\n",
    "import time\n",
    "from PIL import Image\n",
    "import numpy as np\n",
    "import tensorflow as tf\n",
    "import tensorflow_hub as hub\n",
    "import matplotlib.pyplot as plt"
   ]
  },
  {
   "cell_type": "code",
   "execution_count": 3,
   "metadata": {
    "ExecuteTime": {
     "end_time": "2022-04-01T11:11:37.614267Z",
     "start_time": "2022-04-01T11:11:08.234193Z"
    }
   },
   "outputs": [],
   "source": [
    "test_dir = 'test' #Test set directory\n",
    "target_dir = 'processed_test' #New directory to save processed test images\n",
    "\n",
    "try:\n",
    "    os.mkdir(target_dir)\n",
    "except: pass\n",
    "file_list = []\n",
    "for root, dirs, files in os.walk(test_dir, topdown=False):\n",
    "    for name in files:\n",
    "        file_list.append(os.path.join(root, name).replace('\\\\','/'))\n",
    "        \n",
    "SAVED_MODEL_PATH = \"https://tfhub.dev/captain-pool/esrgan-tf2/1\"\n",
    "model = hub.load(SAVED_MODEL_PATH)        "
   ]
  },
  {
   "cell_type": "code",
   "execution_count": 4,
   "metadata": {
    "ExecuteTime": {
     "end_time": "2022-04-01T11:12:41.917064Z",
     "start_time": "2022-04-01T11:12:41.903101Z"
    }
   },
   "outputs": [],
   "source": [
    "def preprocess_image(image_path):\n",
    "    \"\"\" Loads image from path and preprocesses to make it model ready\n",
    "      Args:\n",
    "        image_path: Path to the image file\n",
    "    \"\"\"\n",
    "    hr_image = tf.image.decode_image(tf.io.read_file(image_path))\n",
    "    # If PNG, remove the alpha channel. The model only supports\n",
    "    # images with 3 color channels.\n",
    "    if hr_image.shape[-1] == 4:\n",
    "        hr_image = hr_image[...,:-1]\n",
    "    hr_size = (tf.convert_to_tensor(hr_image.shape[:-1]) // 4) * 4\n",
    "    hr_image = tf.image.crop_to_bounding_box(hr_image, 0, 0, hr_size[0], hr_size[1])\n",
    "    hr_image = tf.cast(hr_image, tf.float32)\n",
    "    return tf.expand_dims(hr_image, 0)\n",
    "\n",
    "def save_image(image, filename,target_dir):\n",
    "    \"\"\"\n",
    "    Saves unscaled Tensor Images.\n",
    "    Args:\n",
    "      image: 3D image tensor. [height, width, channels]\n",
    "      filename: Name of the file to save to.\n",
    "    \"\"\"\n",
    "    if not isinstance(image, Image.Image):\n",
    "        image = tf.clip_by_value(image, 0, 255)\n",
    "        image = Image.fromarray(tf.cast(image, tf.uint8).numpy())\n",
    "    image.save(f\"{target_dir}{filename.replace(test_dir,'')}\")"
   ]
  },
  {
   "cell_type": "code",
   "execution_count": null,
   "metadata": {
    "ExecuteTime": {
     "start_time": "2022-04-01T11:14:11.739Z"
    }
   },
   "outputs": [],
   "source": [
    "IMAGE_PATH = 'nric.png'\n",
    "hr_image = preprocess_image(IMAGE_PATH)\n",
    "fake_image = model(hr_image)\n",
    "fake_image = tf.squeeze(fake_image)\n",
    "save_image(fake_image, filename='nric_new.png',target_dir='')"
   ]
  },
  {
   "cell_type": "code",
   "execution_count": 4,
   "metadata": {
    "ExecuteTime": {
     "end_time": "2021-09-26T08:56:03.717591Z",
     "start_time": "2021-09-26T08:56:03.712605Z"
    }
   },
   "outputs": [],
   "source": [
    "for file in file_list:\n",
    "    IMAGE_PATH = file\n",
    "    hr_image = preprocess_image(IMAGE_PATH)\n",
    "    fake_image = model(hr_image)\n",
    "    fake_image = tf.squeeze(fake_image)\n",
    "    save_image(fake_image, filename=file,target_dir)"
   ]
  }
 ],
 "metadata": {
  "kernelspec": {
   "display_name": "Python 3 (ipykernel)",
   "language": "python",
   "name": "python3"
  },
  "language_info": {
   "codemirror_mode": {
    "name": "ipython",
    "version": 3
   },
   "file_extension": ".py",
   "mimetype": "text/x-python",
   "name": "python",
   "nbconvert_exporter": "python",
   "pygments_lexer": "ipython3",
   "version": "3.7.11"
  },
  "metadata": {
   "interpreter": {
    "hash": "343771fe1cc0c8c84518fac380aee7bd9055c3eb86297eb7a7e08e2ca6ed7bd2"
   }
  },
  "varInspector": {
   "cols": {
    "lenName": 16,
    "lenType": 16,
    "lenVar": 40
   },
   "kernels_config": {
    "python": {
     "delete_cmd_postfix": "",
     "delete_cmd_prefix": "del ",
     "library": "var_list.py",
     "varRefreshCmd": "print(var_dic_list())"
    },
    "r": {
     "delete_cmd_postfix": ") ",
     "delete_cmd_prefix": "rm(",
     "library": "var_list.r",
     "varRefreshCmd": "cat(var_dic_list()) "
    }
   },
   "types_to_exclude": [
    "module",
    "function",
    "builtin_function_or_method",
    "instance",
    "_Feature"
   ],
   "window_display": false
  }
 },
 "nbformat": 4,
 "nbformat_minor": 2
}
